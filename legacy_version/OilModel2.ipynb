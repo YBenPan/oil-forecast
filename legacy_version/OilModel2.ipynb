{
 "cells": [
  {
   "cell_type": "code",
   "execution_count": 1,
   "metadata": {},
   "outputs": [],
   "source": [
    "from sklearn.model_selection import train_test_split\n",
    "from sklearn.linear_model import LinearRegression\n",
    "from sklearn import metrics\n",
    "from sklearn import linear_model"
   ]
  },
  {
   "cell_type": "code",
   "execution_count": 2,
   "metadata": {},
   "outputs": [],
   "source": [
    "import pandas as pd\n",
    "import matplotlib.pyplot as plt\n",
    "import numpy as np\n",
    "import math\n",
    "%matplotlib inline"
   ]
  },
  {
   "cell_type": "code",
   "execution_count": 3,
   "metadata": {},
   "outputs": [],
   "source": [
    "filepath = \"F:\\Computer Programming\\Python-dev\\OilProduction.csv\"\n",
    "df = pd.read_csv(filepath)"
   ]
  },
  {
   "cell_type": "code",
   "execution_count": 4,
   "metadata": {},
   "outputs": [
    {
     "data": {
      "text/html": [
       "<div>\n",
       "<style scoped>\n",
       "    .dataframe tbody tr th:only-of-type {\n",
       "        vertical-align: middle;\n",
       "    }\n",
       "\n",
       "    .dataframe tbody tr th {\n",
       "        vertical-align: top;\n",
       "    }\n",
       "\n",
       "    .dataframe thead th {\n",
       "        text-align: right;\n",
       "    }\n",
       "</style>\n",
       "<table border=\"1\" class=\"dataframe\">\n",
       "  <thead>\n",
       "    <tr style=\"text-align: right;\">\n",
       "      <th></th>\n",
       "      <th>API</th>\n",
       "      <th>Unnamed: 1</th>\n",
       "      <th>Apr-83</th>\n",
       "      <th>May-83</th>\n",
       "      <th>Jun-83</th>\n",
       "      <th>Jul-83</th>\n",
       "      <th>Aug-83</th>\n",
       "      <th>Sep-83</th>\n",
       "      <th>Oct-83</th>\n",
       "      <th>Nov-83</th>\n",
       "      <th>...</th>\n",
       "      <th>19-Oct</th>\n",
       "      <th>19-Nov</th>\n",
       "      <th>19-Dec</th>\n",
       "      <th>20-Jan</th>\n",
       "      <th>20-Feb</th>\n",
       "      <th>20-Mar</th>\n",
       "      <th>20-Apr</th>\n",
       "      <th>20-May</th>\n",
       "      <th>20-Jun</th>\n",
       "      <th>20-Jul</th>\n",
       "    </tr>\n",
       "  </thead>\n",
       "  <tbody>\n",
       "    <tr>\n",
       "      <th>0</th>\n",
       "      <td>NaN</td>\n",
       "      <td>World</td>\n",
       "      <td>NaN</td>\n",
       "      <td>NaN</td>\n",
       "      <td>NaN</td>\n",
       "      <td>NaN</td>\n",
       "      <td>NaN</td>\n",
       "      <td>NaN</td>\n",
       "      <td>NaN</td>\n",
       "      <td>NaN</td>\n",
       "      <td>...</td>\n",
       "      <td>NaN</td>\n",
       "      <td>NaN</td>\n",
       "      <td>NaN</td>\n",
       "      <td>NaN</td>\n",
       "      <td>NaN</td>\n",
       "      <td>NaN</td>\n",
       "      <td>NaN</td>\n",
       "      <td>NaN</td>\n",
       "      <td>NaN</td>\n",
       "      <td>NaN</td>\n",
       "    </tr>\n",
       "    <tr>\n",
       "      <th>1</th>\n",
       "      <td>NaN</td>\n",
       "      <td>Production</td>\n",
       "      <td>NaN</td>\n",
       "      <td>NaN</td>\n",
       "      <td>NaN</td>\n",
       "      <td>NaN</td>\n",
       "      <td>NaN</td>\n",
       "      <td>NaN</td>\n",
       "      <td>NaN</td>\n",
       "      <td>NaN</td>\n",
       "      <td>...</td>\n",
       "      <td>NaN</td>\n",
       "      <td>NaN</td>\n",
       "      <td>NaN</td>\n",
       "      <td>NaN</td>\n",
       "      <td>NaN</td>\n",
       "      <td>NaN</td>\n",
       "      <td>NaN</td>\n",
       "      <td>NaN</td>\n",
       "      <td>NaN</td>\n",
       "      <td>NaN</td>\n",
       "    </tr>\n",
       "    <tr>\n",
       "      <th>2</th>\n",
       "      <td>INTL.53-1-WORL-TBPD.M</td>\n",
       "      <td>Total petroleum and other liquids (Mb/d)</td>\n",
       "      <td>NaN</td>\n",
       "      <td>NaN</td>\n",
       "      <td>NaN</td>\n",
       "      <td>NaN</td>\n",
       "      <td>NaN</td>\n",
       "      <td>NaN</td>\n",
       "      <td>NaN</td>\n",
       "      <td>NaN</td>\n",
       "      <td>...</td>\n",
       "      <td>101267.100</td>\n",
       "      <td>101951.701</td>\n",
       "      <td>101674.673</td>\n",
       "      <td>101344.349</td>\n",
       "      <td>100211.030</td>\n",
       "      <td>100473.928</td>\n",
       "      <td>100324.314</td>\n",
       "      <td>88570.789</td>\n",
       "      <td>88595.238</td>\n",
       "      <td>90173.271</td>\n",
       "    </tr>\n",
       "    <tr>\n",
       "      <th>3</th>\n",
       "      <td>INTL.55-1-WORL-TBPD.M</td>\n",
       "      <td>Crude oil, NGPL, and other liquids (Mb/d)</td>\n",
       "      <td>NaN</td>\n",
       "      <td>NaN</td>\n",
       "      <td>NaN</td>\n",
       "      <td>NaN</td>\n",
       "      <td>NaN</td>\n",
       "      <td>NaN</td>\n",
       "      <td>NaN</td>\n",
       "      <td>NaN</td>\n",
       "      <td>...</td>\n",
       "      <td>98669.923</td>\n",
       "      <td>99237.550</td>\n",
       "      <td>98958.303</td>\n",
       "      <td>98631.366</td>\n",
       "      <td>97694.596</td>\n",
       "      <td>97976.558</td>\n",
       "      <td>98094.096</td>\n",
       "      <td>86281.128</td>\n",
       "      <td>86210.787</td>\n",
       "      <td>87695.804</td>\n",
       "    </tr>\n",
       "    <tr>\n",
       "      <th>4</th>\n",
       "      <td>INTL.57-1-WORL-TBPD.M</td>\n",
       "      <td>Crude oil including lease condensate (Mb/d)</td>\n",
       "      <td>50958.936</td>\n",
       "      <td>52658.767</td>\n",
       "      <td>52868.746</td>\n",
       "      <td>54651.57</td>\n",
       "      <td>54498.585</td>\n",
       "      <td>54498.585</td>\n",
       "      <td>54891.545</td>\n",
       "      <td>55259.509</td>\n",
       "      <td>...</td>\n",
       "      <td>82602.770</td>\n",
       "      <td>83578.780</td>\n",
       "      <td>83583.530</td>\n",
       "      <td>83220.688</td>\n",
       "      <td>82393.732</td>\n",
       "      <td>82414.546</td>\n",
       "      <td>82877.130</td>\n",
       "      <td>71482.853</td>\n",
       "      <td>70427.486</td>\n",
       "      <td>71557.235</td>\n",
       "    </tr>\n",
       "    <tr>\n",
       "      <th>5</th>\n",
       "      <td>INTL.58-1-WORL-TBPD.M</td>\n",
       "      <td>NGPL (Mb/d)</td>\n",
       "      <td>NaN</td>\n",
       "      <td>NaN</td>\n",
       "      <td>NaN</td>\n",
       "      <td>NaN</td>\n",
       "      <td>NaN</td>\n",
       "      <td>NaN</td>\n",
       "      <td>NaN</td>\n",
       "      <td>NaN</td>\n",
       "      <td>...</td>\n",
       "      <td>11696.049</td>\n",
       "      <td>11674.553</td>\n",
       "      <td>11739.701</td>\n",
       "      <td>11814.703</td>\n",
       "      <td>11721.664</td>\n",
       "      <td>11990.360</td>\n",
       "      <td>11718.616</td>\n",
       "      <td>10959.816</td>\n",
       "      <td>11695.751</td>\n",
       "      <td>11832.562</td>\n",
       "    </tr>\n",
       "    <tr>\n",
       "      <th>6</th>\n",
       "      <td>INTL.59-1-WORL-TBPD.M</td>\n",
       "      <td>Other liquids (Mb/d)</td>\n",
       "      <td>NaN</td>\n",
       "      <td>NaN</td>\n",
       "      <td>NaN</td>\n",
       "      <td>NaN</td>\n",
       "      <td>NaN</td>\n",
       "      <td>NaN</td>\n",
       "      <td>NaN</td>\n",
       "      <td>NaN</td>\n",
       "      <td>...</td>\n",
       "      <td>4371.104</td>\n",
       "      <td>3984.217</td>\n",
       "      <td>3635.072</td>\n",
       "      <td>3595.975</td>\n",
       "      <td>3579.200</td>\n",
       "      <td>3571.652</td>\n",
       "      <td>3498.350</td>\n",
       "      <td>3838.459</td>\n",
       "      <td>4087.550</td>\n",
       "      <td>4306.007</td>\n",
       "    </tr>\n",
       "    <tr>\n",
       "      <th>7</th>\n",
       "      <td>INTL.56-1-WORL-TBPD.M</td>\n",
       "      <td>Refinery processing gain (Mb/d)</td>\n",
       "      <td>NaN</td>\n",
       "      <td>NaN</td>\n",
       "      <td>NaN</td>\n",
       "      <td>NaN</td>\n",
       "      <td>NaN</td>\n",
       "      <td>NaN</td>\n",
       "      <td>NaN</td>\n",
       "      <td>NaN</td>\n",
       "      <td>...</td>\n",
       "      <td>2597.177</td>\n",
       "      <td>2714.151</td>\n",
       "      <td>2716.370</td>\n",
       "      <td>2712.983</td>\n",
       "      <td>2516.434</td>\n",
       "      <td>2497.370</td>\n",
       "      <td>2230.218</td>\n",
       "      <td>2289.661</td>\n",
       "      <td>2384.451</td>\n",
       "      <td>2477.467</td>\n",
       "    </tr>\n",
       "    <tr>\n",
       "      <th>8</th>\n",
       "      <td>NaN</td>\n",
       "      <td>Consumption</td>\n",
       "      <td>NaN</td>\n",
       "      <td>NaN</td>\n",
       "      <td>NaN</td>\n",
       "      <td>NaN</td>\n",
       "      <td>NaN</td>\n",
       "      <td>NaN</td>\n",
       "      <td>NaN</td>\n",
       "      <td>NaN</td>\n",
       "      <td>...</td>\n",
       "      <td>NaN</td>\n",
       "      <td>NaN</td>\n",
       "      <td>NaN</td>\n",
       "      <td>NaN</td>\n",
       "      <td>NaN</td>\n",
       "      <td>NaN</td>\n",
       "      <td>NaN</td>\n",
       "      <td>NaN</td>\n",
       "      <td>NaN</td>\n",
       "      <td>NaN</td>\n",
       "    </tr>\n",
       "    <tr>\n",
       "      <th>9</th>\n",
       "      <td>none</td>\n",
       "      <td>Refined petroleum products (Mb/d)</td>\n",
       "      <td>NaN</td>\n",
       "      <td>NaN</td>\n",
       "      <td>NaN</td>\n",
       "      <td>NaN</td>\n",
       "      <td>NaN</td>\n",
       "      <td>NaN</td>\n",
       "      <td>NaN</td>\n",
       "      <td>NaN</td>\n",
       "      <td>...</td>\n",
       "      <td>NaN</td>\n",
       "      <td>NaN</td>\n",
       "      <td>NaN</td>\n",
       "      <td>NaN</td>\n",
       "      <td>NaN</td>\n",
       "      <td>NaN</td>\n",
       "      <td>NaN</td>\n",
       "      <td>NaN</td>\n",
       "      <td>NaN</td>\n",
       "      <td>NaN</td>\n",
       "    </tr>\n",
       "    <tr>\n",
       "      <th>10</th>\n",
       "      <td>NaN</td>\n",
       "      <td>NaN</td>\n",
       "      <td>NaN</td>\n",
       "      <td>NaN</td>\n",
       "      <td>NaN</td>\n",
       "      <td>NaN</td>\n",
       "      <td>NaN</td>\n",
       "      <td>NaN</td>\n",
       "      <td>NaN</td>\n",
       "      <td>NaN</td>\n",
       "      <td>...</td>\n",
       "      <td>NaN</td>\n",
       "      <td>NaN</td>\n",
       "      <td>NaN</td>\n",
       "      <td>NaN</td>\n",
       "      <td>NaN</td>\n",
       "      <td>NaN</td>\n",
       "      <td>NaN</td>\n",
       "      <td>NaN</td>\n",
       "      <td>NaN</td>\n",
       "      <td>NaN</td>\n",
       "    </tr>\n",
       "    <tr>\n",
       "      <th>11</th>\n",
       "      <td>NaN</td>\n",
       "      <td>NaN</td>\n",
       "      <td>NaN</td>\n",
       "      <td>NaN</td>\n",
       "      <td>NaN</td>\n",
       "      <td>NaN</td>\n",
       "      <td>NaN</td>\n",
       "      <td>NaN</td>\n",
       "      <td>NaN</td>\n",
       "      <td>NaN</td>\n",
       "      <td>...</td>\n",
       "      <td>NaN</td>\n",
       "      <td>NaN</td>\n",
       "      <td>NaN</td>\n",
       "      <td>NaN</td>\n",
       "      <td>NaN</td>\n",
       "      <td>NaN</td>\n",
       "      <td>NaN</td>\n",
       "      <td>NaN</td>\n",
       "      <td>NaN</td>\n",
       "      <td>NaN</td>\n",
       "    </tr>\n",
       "  </tbody>\n",
       "</table>\n",
       "<p>12 rows × 450 columns</p>\n",
       "</div>"
      ],
      "text/plain": [
       "                      API                                   Unnamed: 1  \\\n",
       "0                     NaN                                        World   \n",
       "1                     NaN                                   Production   \n",
       "2   INTL.53-1-WORL-TBPD.M     Total petroleum and other liquids (Mb/d)   \n",
       "3   INTL.55-1-WORL-TBPD.M    Crude oil, NGPL, and other liquids (Mb/d)   \n",
       "4   INTL.57-1-WORL-TBPD.M  Crude oil including lease condensate (Mb/d)   \n",
       "5   INTL.58-1-WORL-TBPD.M                                  NGPL (Mb/d)   \n",
       "6   INTL.59-1-WORL-TBPD.M                         Other liquids (Mb/d)   \n",
       "7   INTL.56-1-WORL-TBPD.M              Refinery processing gain (Mb/d)   \n",
       "8                     NaN                                  Consumption   \n",
       "9                    none            Refined petroleum products (Mb/d)   \n",
       "10                    NaN                                          NaN   \n",
       "11                    NaN                                          NaN   \n",
       "\n",
       "       Apr-83     May-83     Jun-83    Jul-83     Aug-83     Sep-83  \\\n",
       "0         NaN        NaN        NaN       NaN        NaN        NaN   \n",
       "1         NaN        NaN        NaN       NaN        NaN        NaN   \n",
       "2         NaN        NaN        NaN       NaN        NaN        NaN   \n",
       "3         NaN        NaN        NaN       NaN        NaN        NaN   \n",
       "4   50958.936  52658.767  52868.746  54651.57  54498.585  54498.585   \n",
       "5         NaN        NaN        NaN       NaN        NaN        NaN   \n",
       "6         NaN        NaN        NaN       NaN        NaN        NaN   \n",
       "7         NaN        NaN        NaN       NaN        NaN        NaN   \n",
       "8         NaN        NaN        NaN       NaN        NaN        NaN   \n",
       "9         NaN        NaN        NaN       NaN        NaN        NaN   \n",
       "10        NaN        NaN        NaN       NaN        NaN        NaN   \n",
       "11        NaN        NaN        NaN       NaN        NaN        NaN   \n",
       "\n",
       "       Oct-83     Nov-83  ...      19-Oct      19-Nov      19-Dec      20-Jan  \\\n",
       "0         NaN        NaN  ...         NaN         NaN         NaN         NaN   \n",
       "1         NaN        NaN  ...         NaN         NaN         NaN         NaN   \n",
       "2         NaN        NaN  ...  101267.100  101951.701  101674.673  101344.349   \n",
       "3         NaN        NaN  ...   98669.923   99237.550   98958.303   98631.366   \n",
       "4   54891.545  55259.509  ...   82602.770   83578.780   83583.530   83220.688   \n",
       "5         NaN        NaN  ...   11696.049   11674.553   11739.701   11814.703   \n",
       "6         NaN        NaN  ...    4371.104    3984.217    3635.072    3595.975   \n",
       "7         NaN        NaN  ...    2597.177    2714.151    2716.370    2712.983   \n",
       "8         NaN        NaN  ...         NaN         NaN         NaN         NaN   \n",
       "9         NaN        NaN  ...         NaN         NaN         NaN         NaN   \n",
       "10        NaN        NaN  ...         NaN         NaN         NaN         NaN   \n",
       "11        NaN        NaN  ...         NaN         NaN         NaN         NaN   \n",
       "\n",
       "        20-Feb      20-Mar      20-Apr     20-May     20-Jun     20-Jul  \n",
       "0          NaN         NaN         NaN        NaN        NaN        NaN  \n",
       "1          NaN         NaN         NaN        NaN        NaN        NaN  \n",
       "2   100211.030  100473.928  100324.314  88570.789  88595.238  90173.271  \n",
       "3    97694.596   97976.558   98094.096  86281.128  86210.787  87695.804  \n",
       "4    82393.732   82414.546   82877.130  71482.853  70427.486  71557.235  \n",
       "5    11721.664   11990.360   11718.616  10959.816  11695.751  11832.562  \n",
       "6     3579.200    3571.652    3498.350   3838.459   4087.550   4306.007  \n",
       "7     2516.434    2497.370    2230.218   2289.661   2384.451   2477.467  \n",
       "8          NaN         NaN         NaN        NaN        NaN        NaN  \n",
       "9          NaN         NaN         NaN        NaN        NaN        NaN  \n",
       "10         NaN         NaN         NaN        NaN        NaN        NaN  \n",
       "11         NaN         NaN         NaN        NaN        NaN        NaN  \n",
       "\n",
       "[12 rows x 450 columns]"
      ]
     },
     "execution_count": 4,
     "metadata": {},
     "output_type": "execute_result"
    }
   ],
   "source": [
    "df.head(15)"
   ]
  },
  {
   "cell_type": "code",
   "execution_count": 5,
   "metadata": {},
   "outputs": [],
   "source": [
    "df = df.drop(columns = [\"API\", \"Unnamed: 1\"])"
   ]
  },
  {
   "cell_type": "code",
   "execution_count": 6,
   "metadata": {},
   "outputs": [
    {
     "data": {
      "text/plain": [
       "448"
      ]
     },
     "execution_count": 6,
     "metadata": {},
     "output_type": "execute_result"
    }
   ],
   "source": [
    "list_production = []\n",
    "for column in df:\n",
    "    columnSeriesObj = df[column]\n",
    "    x = columnSeriesObj.iloc[2]\n",
    "    if (type(x) != str and math.isnan(x)):\n",
    "        added = columnSeriesObj.iloc[4]\n",
    "    elif (type(x) != str):\n",
    "        added = columnSeriesObj.iloc[2]\n",
    "    list_production.append(added)\n",
    "len(list_production)"
   ]
  },
  {
   "cell_type": "code",
   "execution_count": 7,
   "metadata": {},
   "outputs": [],
   "source": [
    "filepath = \"F:\\Computer Programming\\Python-dev\\Crude Oil WTI Futures Historical Data.csv\"\n",
    "df_price = pd.read_csv(filepath)"
   ]
  },
  {
   "cell_type": "code",
   "execution_count": 8,
   "metadata": {},
   "outputs": [],
   "source": [
    "list_price = []\n",
    "list_price = list(df_price.iloc[0:448, 1])\n",
    "df_x = np.array(list_production)\n",
    "df_y = np.array(list_price)\n",
    "df_x = df_x.reshape(-1, 1)\n",
    "df_y = df_y.reshape(-1, 1)"
   ]
  },
  {
   "cell_type": "code",
   "execution_count": 9,
   "metadata": {},
   "outputs": [],
   "source": [
    "x_train, x_test, y_train, y_test = train_test_split(df_x, df_y, test_size = 0.2, random_state = 0)"
   ]
  },
  {
   "cell_type": "code",
   "execution_count": 10,
   "metadata": {},
   "outputs": [],
   "source": [
    "regressor = LinearRegression()"
   ]
  },
  {
   "cell_type": "code",
   "execution_count": 11,
   "metadata": {},
   "outputs": [
    {
     "data": {
      "text/plain": [
       "LinearRegression()"
      ]
     },
     "execution_count": 11,
     "metadata": {},
     "output_type": "execute_result"
    }
   ],
   "source": [
    "regressor.fit(x_train, y_train)"
   ]
  },
  {
   "cell_type": "code",
   "execution_count": 12,
   "metadata": {},
   "outputs": [
    {
     "name": "stdout",
     "output_type": "stream",
     "text": [
      "[[-0.0013707]]\n"
     ]
    }
   ],
   "source": [
    "print(regressor.coef_)"
   ]
  },
  {
   "cell_type": "code",
   "execution_count": 13,
   "metadata": {},
   "outputs": [
    {
     "name": "stdout",
     "output_type": "stream",
     "text": [
      "[148.88005122]\n"
     ]
    }
   ],
   "source": [
    "print(regressor.intercept_)"
   ]
  },
  {
   "cell_type": "code",
   "execution_count": 14,
   "metadata": {},
   "outputs": [],
   "source": [
    "predicted = regressor.predict(x_test)"
   ]
  },
  {
   "cell_type": "code",
   "execution_count": 15,
   "metadata": {},
   "outputs": [
    {
     "name": "stdout",
     "output_type": "stream",
     "text": [
      "Mean Absolute Error: 15.297519546620595\n",
      "Mean Squared Error: 380.014072595659\n",
      "Root Mean Squared Error: 19.493949640738766\n"
     ]
    }
   ],
   "source": [
    "#print(predicted)\n",
    "print(\"Mean Absolute Error:\", metrics.mean_absolute_error(y_test, predicted))\n",
    "print(\"Mean Squared Error:\", metrics.mean_squared_error(y_test, predicted))\n",
    "print(\"Root Mean Squared Error:\", math.sqrt(metrics.mean_squared_error(y_test, predicted)))"
   ]
  },
  {
   "cell_type": "code",
   "execution_count": 16,
   "metadata": {},
   "outputs": [
    {
     "data": {
      "text/plain": [
       "0.4995336436354123"
      ]
     },
     "execution_count": 16,
     "metadata": {},
     "output_type": "execute_result"
    }
   ],
   "source": [
    "regressor.score(x_train, y_train)"
   ]
  },
  {
   "cell_type": "code",
   "execution_count": 18,
   "metadata": {},
   "outputs": [
    {
     "data": {
      "text/plain": [
       "Text(0, 0.5, 'Crude Oil Price in Dollars')"
      ]
     },
     "execution_count": 18,
     "metadata": {},
     "output_type": "execute_result"
    },
    {
     "data": {
      "image/png": "[encoded data removed]",
      "text/plain": [
       "<Figure size 432x288 with 1 Axes>"
      ]
     },
     "metadata": {
      "needs_background": "light"
     },
     "output_type": "display_data"
    }
   ],
   "source": [
    "plt.scatter(x_train, y_train, color = \"red\")\n",
    "plt.plot(x_train, regressor.predict(x_train), color = \"blue\")\n",
    "plt.title(\"World Production of Crude Oil vs. Crude Oil WTI Future Price\")\n",
    "plt.xlabel(\"World Crude Oil Production (Thousand Barrels)\")\n",
    "plt.ylabel(\"Crude Oil Price in Dollars\")"
   ]
  },
  {
   "cell_type": "code",
   "execution_count": null,
   "metadata": {},
   "outputs": [],
   "source": []
  }
 ],
 "metadata": {
  "kernelspec": {
   "display_name": "Python 3",
   "language": "python",
   "name": "python3"
  },
  "language_info": {
   "codemirror_mode": {
    "name": "ipython",
    "version": 3
   },
   "file_extension": ".py",
   "mimetype": "text/x-python",
   "name": "python",
   "nbconvert_exporter": "python",
   "pygments_lexer": "ipython3",
   "version": "3.8.8"
  },
  "varInspector": {
   "cols": {
    "lenName": 16,
    "lenType": 16,
    "lenVar": 40
   },
   "kernels_config": {
    "python": {
     "delete_cmd_postfix": "",
     "delete_cmd_prefix": "del ",
     "library": "var_list.py",
     "varRefreshCmd": "print(var_dic_list())"
    },
    "r": {
     "delete_cmd_postfix": ") ",
     "delete_cmd_prefix": "rm(",
     "library": "var_list.r",
     "varRefreshCmd": "cat(var_dic_list()) "
    }
   },
   "types_to_exclude": [
    "module",
    "function",
    "builtin_function_or_method",
    "instance",
    "_Feature"
   ],
   "window_display": false
  }
 },
 "nbformat": 4,
 "nbformat_minor": 4
}
