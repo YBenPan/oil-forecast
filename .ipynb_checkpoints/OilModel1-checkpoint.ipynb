{
 "cells": [
  {
   "cell_type": "code",
   "execution_count": 2,
   "metadata": {},
   "outputs": [],
   "source": [
    "from sklearn.model_selection import train_test_split\n",
    "from sklearn.linear_model import LinearRegression\n",
    "from sklearn import metrics"
   ]
  },
  {
   "cell_type": "code",
   "execution_count": 55,
   "metadata": {},
   "outputs": [],
   "source": [
    "import pandas as pd\n",
    "import matplotlib.pyplot as plt\n",
    "import numpy as np\n",
    "import math\n",
    "%matplotlib inline"
   ]
  },
  {
   "cell_type": "code",
   "execution_count": 4,
   "metadata": {},
   "outputs": [],
   "source": [
    "filepath = \"F:\\Computer Programming\\Python-dev\\HistoricalQuotes.csv\"\n",
    "df = pd.read_csv(filepath)"
   ]
  },
  {
   "cell_type": "code",
   "execution_count": 5,
   "metadata": {},
   "outputs": [
    {
     "data": {
      "text/html": [
       "<div>\n",
       "<style scoped>\n",
       "    .dataframe tbody tr th:only-of-type {\n",
       "        vertical-align: middle;\n",
       "    }\n",
       "\n",
       "    .dataframe tbody tr th {\n",
       "        vertical-align: top;\n",
       "    }\n",
       "\n",
       "    .dataframe thead th {\n",
       "        text-align: right;\n",
       "    }\n",
       "</style>\n",
       "<table border=\"1\" class=\"dataframe\">\n",
       "  <thead>\n",
       "    <tr style=\"text-align: right;\">\n",
       "      <th></th>\n",
       "      <th>Close/Last</th>\n",
       "      <th>Open</th>\n",
       "      <th>High</th>\n",
       "      <th>Low</th>\n",
       "    </tr>\n",
       "  </thead>\n",
       "  <tbody>\n",
       "    <tr>\n",
       "      <th>count</th>\n",
       "      <td>2519.000000</td>\n",
       "      <td>2519.000000</td>\n",
       "      <td>2519.000000</td>\n",
       "      <td>2519.000000</td>\n",
       "    </tr>\n",
       "    <tr>\n",
       "      <th>mean</th>\n",
       "      <td>69.159107</td>\n",
       "      <td>69.180762</td>\n",
       "      <td>70.074184</td>\n",
       "      <td>68.190742</td>\n",
       "    </tr>\n",
       "    <tr>\n",
       "      <th>std</th>\n",
       "      <td>23.957121</td>\n",
       "      <td>23.934155</td>\n",
       "      <td>23.969377</td>\n",
       "      <td>23.860927</td>\n",
       "    </tr>\n",
       "    <tr>\n",
       "      <th>min</th>\n",
       "      <td>-37.630000</td>\n",
       "      <td>-37.250000</td>\n",
       "      <td>-35.200000</td>\n",
       "      <td>-40.320000</td>\n",
       "    </tr>\n",
       "    <tr>\n",
       "      <th>25%</th>\n",
       "      <td>49.175000</td>\n",
       "      <td>49.160000</td>\n",
       "      <td>49.900000</td>\n",
       "      <td>48.390000</td>\n",
       "    </tr>\n",
       "    <tr>\n",
       "      <th>50%</th>\n",
       "      <td>61.900000</td>\n",
       "      <td>61.900000</td>\n",
       "      <td>62.740000</td>\n",
       "      <td>61.130000</td>\n",
       "    </tr>\n",
       "    <tr>\n",
       "      <th>75%</th>\n",
       "      <td>93.485000</td>\n",
       "      <td>93.490000</td>\n",
       "      <td>94.425000</td>\n",
       "      <td>92.575000</td>\n",
       "    </tr>\n",
       "    <tr>\n",
       "      <th>max</th>\n",
       "      <td>113.930000</td>\n",
       "      <td>113.450000</td>\n",
       "      <td>114.180000</td>\n",
       "      <td>113.050000</td>\n",
       "    </tr>\n",
       "  </tbody>\n",
       "</table>\n",
       "</div>"
      ],
      "text/plain": [
       "        Close/Last         Open         High          Low\n",
       "count  2519.000000  2519.000000  2519.000000  2519.000000\n",
       "mean     69.159107    69.180762    70.074184    68.190742\n",
       "std      23.957121    23.934155    23.969377    23.860927\n",
       "min     -37.630000   -37.250000   -35.200000   -40.320000\n",
       "25%      49.175000    49.160000    49.900000    48.390000\n",
       "50%      61.900000    61.900000    62.740000    61.130000\n",
       "75%      93.485000    93.490000    94.425000    92.575000\n",
       "max     113.930000   113.450000   114.180000   113.050000"
      ]
     },
     "execution_count": 5,
     "metadata": {},
     "output_type": "execute_result"
    }
   ],
   "source": [
    "df.describe()"
   ]
  },
  {
   "cell_type": "code",
   "execution_count": 42,
   "metadata": {},
   "outputs": [
    {
     "name": "stdout",
     "output_type": "stream",
     "text": [
      "Date\n",
      "False    2517\n",
      "Name: Date, dtype: int64\n",
      "\n",
      "Close\n",
      "False    2517\n",
      "Name: Close, dtype: int64\n",
      "\n",
      "Volume\n",
      "False    2517\n",
      "Name: Volume, dtype: int64\n",
      "\n",
      "Open\n",
      "False    2517\n",
      "Name: Open, dtype: int64\n",
      "\n",
      "High\n",
      "False    2517\n",
      "Name: High, dtype: int64\n",
      "\n",
      "Low\n",
      "False    2517\n",
      "Name: Low, dtype: int64\n",
      "\n"
     ]
    }
   ],
   "source": [
    "#list(df.columns.values)\n",
    "df.rename({\" Close/Last\" : \"Close\", \" Volume\" : \"Volume\", \" Open\" : \"Open\", \" High\" : \"High\", \" Low\" : \"Low\"}, \n",
    "         axis = \"columns\", inplace = True)\n",
    "#df.dtypes\n",
    "df.replace(\" N/A\", np.nan, inplace = True)\n",
    "'''\n",
    "missing_data = df.isnull()\n",
    "missing_data.head(10)\n",
    "for column in missing_data.columns.values.tolist():\n",
    "    print(column)\n",
    "    print(missing_data[column].value_counts())\n",
    "    print(\"\")'''\n",
    "df = df.dropna()\n",
    "df[\"Volume\"] = df[\"Volume\"].astype(float)\n",
    "df.dtypes\n",
    "#list(df.columns.values)"
   ]
  },
  {
   "cell_type": "code",
   "execution_count": 44,
   "metadata": {},
   "outputs": [],
   "source": [
    "x = df[[\"High\", \"Low\", \"Open\", \"Volume\"]].values\n",
    "y = df[\"Close\"].values"
   ]
  },
  {
   "cell_type": "code",
   "execution_count": 45,
   "metadata": {},
   "outputs": [],
   "source": [
    "x_train, x_test, y_train, y_test = train_test_split(x, y, test_size = 0.2, random_state = 0)"
   ]
  },
  {
   "cell_type": "code",
   "execution_count": 46,
   "metadata": {},
   "outputs": [],
   "source": [
    "regressor = LinearRegression()"
   ]
  },
  {
   "cell_type": "code",
   "execution_count": 48,
   "metadata": {},
   "outputs": [
    {
     "data": {
      "text/plain": [
       "LinearRegression()"
      ]
     },
     "execution_count": 48,
     "metadata": {},
     "output_type": "execute_result"
    }
   ],
   "source": [
    "regressor.fit(x_train, y_train)"
   ]
  },
  {
   "cell_type": "code",
   "execution_count": 49,
   "metadata": {},
   "outputs": [
    {
     "name": "stdout",
     "output_type": "stream",
     "text": [
      "[ 7.69953616e-01  7.86164431e-01 -5.55479216e-01 -1.18582985e-07]\n"
     ]
    }
   ],
   "source": [
    "print(regressor.coef_)"
   ]
  },
  {
   "cell_type": "code",
   "execution_count": 50,
   "metadata": {},
   "outputs": [
    {
     "name": "stdout",
     "output_type": "stream",
     "text": [
      "0.06594358988132853\n"
     ]
    }
   ],
   "source": [
    "print(regressor.intercept_)"
   ]
  },
  {
   "cell_type": "code",
   "execution_count": 51,
   "metadata": {},
   "outputs": [],
   "source": [
    "predicted = regressor.predict(x_test)"
   ]
  },
  {
   "cell_type": "code",
   "execution_count": 52,
   "metadata": {},
   "outputs": [
    {
     "name": "stdout",
     "output_type": "stream",
     "text": [
      "[ 46.9984147   44.60665711  68.6450359   54.03395744  86.28951124\n",
      "  53.17920788  50.885341    95.18341979  93.34735412 106.38202314\n",
      "  55.75532473  50.73110772  42.52681207  52.52765271  65.21973499\n",
      "  56.27310434  94.17010583  71.32447183  97.78003526  49.55462155\n",
      "  43.59964269  95.04293734  92.46033377  59.48287708  64.5385882\n",
      "  44.56069676  56.50855451  62.44400602  48.34181162  45.41250317\n",
      "  45.97946084 104.85514873  38.15273035 106.0714575   84.91617028\n",
      "  48.8516928   65.99876104  37.87414943  52.72941385  30.14002321\n",
      "  58.57472229  62.45925309  98.39562817  97.39383844  99.8315239\n",
      "  82.01721903  78.8287938   52.94784912  50.0410971  100.35751501\n",
      "  99.00241448 100.98983734  38.11837216 101.10696072 106.75659918\n",
      "  70.04500487  49.32698032  92.78006203  98.48862928  63.54295256\n",
      "  91.3661298   30.99608911  97.90718122  53.5206478   51.32573549\n",
      " 104.87318256  90.8243346   59.83966299 100.78140963  97.38058139\n",
      " 100.70181104  81.19023517  93.08769951  60.99433239 102.54905611\n",
      "  95.55690525  89.62080627  45.70323642  97.0153505   11.43608404\n",
      "  44.73059898 107.38840824  66.06993178 103.88643036  58.09846141\n",
      "  54.43947396  62.25486485  58.83680584  53.20995607  94.27946134\n",
      " 102.7659255   90.03364213  93.31877578  98.28930556  92.35648126\n",
      " 101.99432476  46.4080598   53.39488978 111.82969931  61.71266628\n",
      " 106.23626708  87.99358519  47.13717052  97.28048069  79.26110375\n",
      "  54.11933386  65.09589095  23.09957283  67.92502665  95.16259596\n",
      "  29.1545224  105.34319161 107.56987758  67.68053093  71.53203589\n",
      "  50.69871643  86.66201685  45.38423234  98.53352818 102.16170362\n",
      "  91.48132159  39.25393166 104.74167821  55.33914083  45.57673276\n",
      "  94.8963039   58.55390485  59.87440252  54.20637851  88.81653514\n",
      "  37.17854404 104.70318882  96.75076375  47.57779501  55.93862701\n",
      " 102.20065685  94.69776125  61.19746958  54.33668874  87.17253442\n",
      "  46.44630288 104.35370024  33.60530901  77.03263539  48.87423428\n",
      "  60.69912647  98.52441872  91.64682177  57.95734969  93.21036274\n",
      "  51.47294191  61.18363733  63.49461354  45.82174588  53.002329\n",
      "  47.99474079  40.43969568  44.6874249   98.24701292  98.94850191\n",
      "  94.16680087  60.05206333  62.42017466  40.34287622  51.09002881\n",
      "  87.85920344  45.23308726  69.56278193  67.15274122 101.1020253\n",
      " 108.21964228  58.32585865  47.66582728  85.24291423  31.04544759\n",
      "  53.70366587  93.23789729  95.08934252  97.3594584   61.89165149\n",
      "  63.6590859   86.52424366  91.44202142  47.56137647  53.51609642\n",
      "  58.8836429   72.26161778  58.04714174  60.30245937  93.42487127\n",
      " 102.18824629  87.98900947  41.06585506  50.46627167  60.31034859\n",
      "  35.77244899  70.99154812  99.14108933  52.28634623  73.61975167\n",
      "  95.82422235 105.95096083  46.83667625  88.20501311  49.71202281\n",
      "  33.0528814   85.85518155  50.16930817 113.53569842  62.18651896\n",
      "  63.77352067  21.05929904  44.3909767  102.9592168   33.43155132\n",
      "  88.6035608   66.22945001  83.67605522  48.85137928  47.61030728\n",
      "  53.70712883  88.28604495 104.25545251  50.52839886  56.9474822\n",
      "  49.36951398  85.57978796  60.38342448  68.01959499  94.12191536\n",
      " 102.49130714  46.03827938  69.28592411  92.85445147  44.87502315\n",
      " 105.59766213  41.43352972  93.66426103  53.78991125  44.95426753\n",
      "  95.66394715 100.03663937 101.2089732   50.97021717  65.79618463\n",
      "  36.87003866  42.3714766   34.01193056  57.65645848  53.59050043\n",
      "  48.6919913   51.4899186   51.22250342  92.82693905  98.98958526\n",
      "  51.46850896  75.24795874  53.95603749  96.97087677  54.65200134\n",
      "  60.98752464  90.21682831 107.14531304  99.28120805  47.28673192\n",
      "  53.16480798  47.57432494  63.39989236  47.50172843  96.24346813\n",
      "  50.27173698  97.03739687  49.0356699   48.18027365  88.60936619\n",
      "  67.61996816  50.00991111  85.88288593  82.67333758  45.53801038\n",
      " 112.04461841  66.67449714  50.9345884   98.80649269  47.50148359\n",
      "  93.54498164  53.46102409  54.10558904  41.26718728  45.10238719\n",
      "  16.80966679  51.48917346  90.22987353  39.42663727  99.62103502\n",
      "  84.8612686  102.04265828  91.5265408   59.18175817  41.80540598\n",
      " 112.45947358  96.93829127  60.82263907 105.76183054  48.86354563\n",
      " 100.40440314  88.17117453  87.80368373  50.63324824 103.24661897\n",
      "  58.13151931  77.3384039   98.01177606  40.55495225  63.15874481\n",
      "  39.05269077  85.57023805  91.35705085  55.80509241  39.0159646\n",
      " 103.73135548  52.50161192 100.72671937  45.60496416  49.18145197\n",
      "  55.79796101  35.46669872  44.75035404  52.34424312  86.51904082\n",
      " 102.33437893  51.83786748  90.91976207  45.13527894  45.40331467\n",
      "  57.52576194 107.36856857  68.36729154  97.21962511  34.23245963\n",
      "  85.22456717  56.5176096  102.39041906  98.31038811  49.6195597\n",
      "  59.92807704 103.81939508  41.14939661  23.67974121  92.86740979\n",
      "  94.50026044  40.46414813  56.45482418  83.33808221  86.85102601\n",
      "  98.94295596 102.72082042 108.66688925  98.65416788  89.24535256\n",
      "  92.88423804 107.95731282 100.22442412 106.71047697  51.49052203\n",
      "  37.59752672  55.90074716  87.07382675  87.4605501   45.01297537\n",
      "  31.07618729  87.30981061  41.31584531  45.12166592  99.44763726\n",
      " 105.80316271  83.69281122  98.89670648  55.88379655  92.13995888\n",
      "  55.27998929  91.12844613  61.57393164  92.69913931  94.67593167\n",
      "  53.16349759 102.02008879  56.54365967  39.52891379  51.86681196\n",
      "  99.22574052  56.75647339  42.79885362  27.45952658  53.08812517\n",
      "  87.26182229  48.13951635  95.97384596  70.25246233  42.25559703\n",
      "  37.61148203  54.52015498  31.10988727  48.52707651 106.76546612\n",
      "  53.33121029  51.27902547  18.10799836  50.19059399  96.16555374\n",
      " 108.57855694  56.74531023 105.47636615  83.93425388  92.73939565\n",
      " 100.15829715  48.02419763  60.87679003  47.02400075  51.60814065\n",
      "  54.08467027  45.21699811  71.22136117 103.40546795  50.72793945\n",
      "  99.988911    24.46223791 106.96311181  53.90298597  55.20197789\n",
      "  63.00074694  85.36936373  63.2906343   90.0794187   60.79878942\n",
      "  95.84706707  46.81103402  39.84133475  57.17279139  96.3211374\n",
      "  51.46020412  86.39639342  48.92193949  55.63013046  61.54637996\n",
      "  58.82217195  52.06891969 104.72445104  48.75949608  46.62670554\n",
      "  57.37567542  85.1984973   85.7297044   53.45614206  21.3423381\n",
      "  35.04728837  98.13723     92.89331132  97.48198004  94.11289897\n",
      "  35.75956724  65.49456223  92.89881171  40.78013342  68.32418138\n",
      "  67.08384583  51.86233511  59.87757778  83.01778587 102.80084071\n",
      "  61.41172012  96.32785487  56.33323136  97.46093596  48.05452389\n",
      "  96.16907214  47.34916816 102.41170929  71.05938228  99.19662399\n",
      "  46.51021743 100.01334024  53.289407    72.424089    97.94124112\n",
      " 101.27311186 105.86762983  85.79325803  86.11754977  92.32665608\n",
      "  45.97713971 103.25947944  42.49143819  41.31864039  47.90810887\n",
      "  35.03191974  95.85318309  86.92409768  47.20011103  96.59852775\n",
      "  52.4923806   50.79685617  99.24859434  56.32632137]\n"
     ]
    }
   ],
   "source": [
    "print(predicted)"
   ]
  },
  {
   "cell_type": "code",
   "execution_count": 53,
   "metadata": {},
   "outputs": [],
   "source": [
    "dframe = pd.DataFrame({\"Actual\": y_test.flatten(), \"Predicted\": predicted.flatten()})"
   ]
  },
  {
   "cell_type": "code",
   "execution_count": 54,
   "metadata": {},
   "outputs": [
    {
     "data": {
      "text/html": [
       "<div>\n",
       "<style scoped>\n",
       "    .dataframe tbody tr th:only-of-type {\n",
       "        vertical-align: middle;\n",
       "    }\n",
       "\n",
       "    .dataframe tbody tr th {\n",
       "        vertical-align: top;\n",
       "    }\n",
       "\n",
       "    .dataframe thead th {\n",
       "        text-align: right;\n",
       "    }\n",
       "</style>\n",
       "<table border=\"1\" class=\"dataframe\">\n",
       "  <thead>\n",
       "    <tr style=\"text-align: right;\">\n",
       "      <th></th>\n",
       "      <th>Actual</th>\n",
       "      <th>Predicted</th>\n",
       "    </tr>\n",
       "  </thead>\n",
       "  <tbody>\n",
       "    <tr>\n",
       "      <th>0</th>\n",
       "      <td>47.07</td>\n",
       "      <td>46.998415</td>\n",
       "    </tr>\n",
       "    <tr>\n",
       "      <th>1</th>\n",
       "      <td>43.98</td>\n",
       "      <td>44.606657</td>\n",
       "    </tr>\n",
       "    <tr>\n",
       "      <th>2</th>\n",
       "      <td>67.89</td>\n",
       "      <td>68.645036</td>\n",
       "    </tr>\n",
       "    <tr>\n",
       "      <th>3</th>\n",
       "      <td>53.54</td>\n",
       "      <td>54.033957</td>\n",
       "    </tr>\n",
       "    <tr>\n",
       "      <th>4</th>\n",
       "      <td>86.80</td>\n",
       "      <td>86.289511</td>\n",
       "    </tr>\n",
       "    <tr>\n",
       "      <th>5</th>\n",
       "      <td>53.20</td>\n",
       "      <td>53.179208</td>\n",
       "    </tr>\n",
       "    <tr>\n",
       "      <th>6</th>\n",
       "      <td>50.44</td>\n",
       "      <td>50.885341</td>\n",
       "    </tr>\n",
       "    <tr>\n",
       "      <th>7</th>\n",
       "      <td>95.01</td>\n",
       "      <td>95.183420</td>\n",
       "    </tr>\n",
       "    <tr>\n",
       "      <th>8</th>\n",
       "      <td>93.65</td>\n",
       "      <td>93.347354</td>\n",
       "    </tr>\n",
       "    <tr>\n",
       "      <th>9</th>\n",
       "      <td>106.53</td>\n",
       "      <td>106.382023</td>\n",
       "    </tr>\n",
       "    <tr>\n",
       "      <th>10</th>\n",
       "      <td>55.30</td>\n",
       "      <td>55.755325</td>\n",
       "    </tr>\n",
       "    <tr>\n",
       "      <th>11</th>\n",
       "      <td>50.43</td>\n",
       "      <td>50.731108</td>\n",
       "    </tr>\n",
       "    <tr>\n",
       "      <th>12</th>\n",
       "      <td>42.89</td>\n",
       "      <td>42.526812</td>\n",
       "    </tr>\n",
       "    <tr>\n",
       "      <th>13</th>\n",
       "      <td>52.72</td>\n",
       "      <td>52.527653</td>\n",
       "    </tr>\n",
       "    <tr>\n",
       "      <th>14</th>\n",
       "      <td>65.01</td>\n",
       "      <td>65.219735</td>\n",
       "    </tr>\n",
       "    <tr>\n",
       "      <th>15</th>\n",
       "      <td>56.20</td>\n",
       "      <td>56.273104</td>\n",
       "    </tr>\n",
       "    <tr>\n",
       "      <th>16</th>\n",
       "      <td>93.68</td>\n",
       "      <td>94.170106</td>\n",
       "    </tr>\n",
       "    <tr>\n",
       "      <th>17</th>\n",
       "      <td>71.28</td>\n",
       "      <td>71.324472</td>\n",
       "    </tr>\n",
       "    <tr>\n",
       "      <th>18</th>\n",
       "      <td>97.65</td>\n",
       "      <td>97.780035</td>\n",
       "    </tr>\n",
       "    <tr>\n",
       "      <th>19</th>\n",
       "      <td>49.33</td>\n",
       "      <td>49.554622</td>\n",
       "    </tr>\n",
       "  </tbody>\n",
       "</table>\n",
       "</div>"
      ],
      "text/plain": [
       "    Actual   Predicted\n",
       "0    47.07   46.998415\n",
       "1    43.98   44.606657\n",
       "2    67.89   68.645036\n",
       "3    53.54   54.033957\n",
       "4    86.80   86.289511\n",
       "5    53.20   53.179208\n",
       "6    50.44   50.885341\n",
       "7    95.01   95.183420\n",
       "8    93.65   93.347354\n",
       "9   106.53  106.382023\n",
       "10   55.30   55.755325\n",
       "11   50.43   50.731108\n",
       "12   42.89   42.526812\n",
       "13   52.72   52.527653\n",
       "14   65.01   65.219735\n",
       "15   56.20   56.273104\n",
       "16   93.68   94.170106\n",
       "17   71.28   71.324472\n",
       "18   97.65   97.780035\n",
       "19   49.33   49.554622"
      ]
     },
     "execution_count": 54,
     "metadata": {},
     "output_type": "execute_result"
    }
   ],
   "source": [
    "dframe.head(20)"
   ]
  },
  {
   "cell_type": "code",
   "execution_count": 56,
   "metadata": {},
   "outputs": [
    {
     "name": "stdout",
     "output_type": "stream",
     "text": [
      "Mean Absolute Error: 0.37792777844527636\n",
      "Mean Squared Error: 0.26261788936406033\n",
      "Root Mean Squared Error: 0.5124625736227577\n"
     ]
    }
   ],
   "source": [
    "print(\"Mean Absolute Error:\", metrics.mean_absolute_error(y_test, predicted))\n",
    "print(\"Mean Squared Error:\", metrics.mean_squared_error(y_test, predicted))\n",
    "print(\"Root Mean Squared Error:\", math.sqrt(metrics.mean_squared_error(y_test, predicted)))"
   ]
  },
  {
   "cell_type": "code",
   "execution_count": 61,
   "metadata": {},
   "outputs": [],
   "source": [
    "graph = dframe.head(50)"
   ]
  },
  {
   "cell_type": "code",
   "execution_count": 62,
   "metadata": {},
   "outputs": [
    {
     "data": {
      "text/plain": [
       "<AxesSubplot:>"
      ]
     },
     "execution_count": 62,
     "metadata": {},
     "output_type": "execute_result"
    },
    {
     "data": {
      "image/png": "[encoded data removed]",
      "text/plain": [
       "<Figure size 432x288 with 1 Axes>"
      ]
     },
     "metadata": {
      "needs_background": "light"
     },
     "output_type": "display_data"
    }
   ],
   "source": [
    "#dframe.plot(kind = \"bar\")\n",
    "graph.plot(kind = \"bar\")"
   ]
  }
 ],
 "metadata": {
  "kernelspec": {
   "display_name": "Python 3",
   "language": "python",
   "name": "python3"
  },
  "language_info": {
   "codemirror_mode": {
    "name": "ipython",
    "version": 3
   },
   "file_extension": ".py",
   "mimetype": "text/x-python",
   "name": "python",
   "nbconvert_exporter": "python",
   "pygments_lexer": "ipython3",
   "version": "3.8.3"
  }
 },
 "nbformat": 4,
 "nbformat_minor": 4
}
