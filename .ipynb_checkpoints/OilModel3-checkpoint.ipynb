{
 "cells": [
  {
   "cell_type": "code",
   "execution_count": 377,
   "metadata": {},
   "outputs": [],
   "source": [
    "from sklearn.model_selection import train_test_split\n",
    "from sklearn.linear_model import LinearRegression\n",
    "from sklearn import metrics\n",
    "from sklearn import linear_model"
   ]
  },
  {
   "cell_type": "code",
   "execution_count": 378,
   "metadata": {},
   "outputs": [],
   "source": [
    "import pandas as pd\n",
    "import matplotlib.pyplot as plt\n",
    "import numpy as np\n",
    "import math\n",
    "%matplotlib inline"
   ]
  },
  {
   "cell_type": "code",
   "execution_count": 379,
   "metadata": {},
   "outputs": [],
   "source": [
    "df = pd.read_csv(\"F:\\Computer Programming\\Python-dev\\Oil3Data.csv\", sep = \"\\t\")\n",
    "df = df.dropna(axis = 0)"
   ]
  },
  {
   "cell_type": "code",
   "execution_count": 380,
   "metadata": {},
   "outputs": [],
   "source": [
    "#Get rid of price change outliers\n",
    "df1 = df[df.Price_change > 0.1]\n",
    "df2 = df[df.Price_change < -0.1]\n",
    "df3 = pd.concat([df1, df2]).drop_duplicates(keep = False)\n",
    "df = pd.concat([df, df3]).drop_duplicates(keep = False)"
   ]
  },
  {
   "cell_type": "code",
   "execution_count": 381,
   "metadata": {},
   "outputs": [],
   "source": [
    "#Get rid of stock change outliers\n",
    "df1 = df[df.Stock_change > 0.015]\n",
    "df2 = df[df.Stock_change < -0.015]\n",
    "df3 = pd.concat([df1, df2]).drop_duplicates(keep = False)\n",
    "df = pd.concat([df, df3]).drop_duplicates(keep = False)"
   ]
  },
  {
   "cell_type": "code",
   "execution_count": 382,
   "metadata": {},
   "outputs": [],
   "source": [
    "#plt.scatter(df['Stock_change'], df['Price_change'])"
   ]
  },
  {
   "cell_type": "code",
   "execution_count": 383,
   "metadata": {},
   "outputs": [],
   "source": [
    "#1. Split the dataset into training and testing\n",
    "#2. Build a function for the evaluation process\n",
    "#3. Build a function for the evaluation of each datapoint\n",
    "#4. Build a function for model evaluation\n",
    "df = df.iloc[::-1]"
   ]
  },
  {
   "cell_type": "code",
   "execution_count": 384,
   "metadata": {},
   "outputs": [
    {
     "name": "stdout",
     "output_type": "stream",
     "text": [
      "           Date    Stock  Stock_change   Price  Price_change\n",
      "1610  1/12/1990  1013190      0.008823   22.57     -0.030082\n",
      "1609  1/19/1990  1019846      0.006569   22.73      0.007089\n",
      "1608  1/26/1990  1032697      0.012601   22.11     -0.027277\n",
      "1606   2/9/1990  1053257      0.002415   22.21     -0.022877\n",
      "1605  2/16/1990  1052636     -0.000590   22.25      0.001801\n",
      "...         ...      ...           ...     ...           ...\n",
      "332   7/11/2014  1092592      0.001123  102.60     -0.021086\n",
      "331   7/18/2014  1097829      0.004793  101.68     -0.008967\n",
      "330   7/25/2014  1097336     -0.000449  103.26      0.015539\n",
      "329    8/1/2014  1089228     -0.007389   99.79     -0.033604\n",
      "328    8/8/2014  1090747      0.001395   97.52     -0.022748\n",
      "\n",
      "[1224 rows x 5 columns]\n",
      "           Date    Stock  Stock_change  Price  Price_change\n",
      "327   8/15/2014  1090065     -0.000625  97.19     -0.003384\n",
      "326   8/22/2014  1091487      0.001305  94.91     -0.023459\n",
      "325   8/29/2014  1092964      0.001353  94.32     -0.006216\n",
      "324    9/5/2014  1102718      0.008924  94.04     -0.002969\n",
      "323   9/12/2014  1107620      0.004445  92.44     -0.017014\n",
      "..          ...      ...           ...    ...           ...\n",
      "4    10/23/2020  1391224     -0.002780  40.56      0.001481\n",
      "3    10/30/2020  1376547     -0.010550  37.50     -0.075444\n",
      "2     11/6/2020  1365069     -0.008338  37.91      0.010933\n",
      "1    11/13/2020  1354914     -0.007439  40.87      0.078080\n",
      "0    11/20/2020  1353844     -0.000790  41.70      0.020308\n",
      "\n",
      "[306 rows x 5 columns]\n"
     ]
    }
   ],
   "source": [
    "train = df[0:1224]\n",
    "test = df[1224: 1530]\n",
    "print(train)\n",
    "print(test)"
   ]
  },
  {
   "cell_type": "code",
   "execution_count": 424,
   "metadata": {},
   "outputs": [],
   "source": [
    "def calc(history, index):\n",
    "    last_week = history[-1:]\n",
    "    return last_week['Stock_change'].iloc[0]"
   ]
  },
  {
   "cell_type": "code",
   "execution_count": 425,
   "metadata": {},
   "outputs": [],
   "source": [
    "#calc is the function that evaluates each datapoint. \n",
    "def build(calc, train, test):\n",
    "    history = train\n",
    "    predictions = list()\n",
    "    for i in range(len(test)):\n",
    "        predicted = calc(history, i)\n",
    "        added_obj = test.iloc[i]\n",
    "        added_obj.Stock_change = predicted\n",
    "        predictions.append(predicted)\n",
    "        history = history.append(test.iloc[i])\n",
    "    return predictions"
   ]
  },
  {
   "cell_type": "code",
   "execution_count": 426,
   "metadata": {},
   "outputs": [],
   "source": [
    "res = build(calc, train, test)"
   ]
  },
  {
   "cell_type": "code",
   "execution_count": null,
   "metadata": {},
   "outputs": [],
   "source": []
  }
 ],
 "metadata": {
  "kernelspec": {
   "display_name": "Python 3",
   "language": "python",
   "name": "python3"
  },
  "language_info": {
   "codemirror_mode": {
    "name": "ipython",
    "version": 3
   },
   "file_extension": ".py",
   "mimetype": "text/x-python",
   "name": "python",
   "nbconvert_exporter": "python",
   "pygments_lexer": "ipython3",
   "version": "3.8.3"
  }
 },
 "nbformat": 4,
 "nbformat_minor": 4
}
